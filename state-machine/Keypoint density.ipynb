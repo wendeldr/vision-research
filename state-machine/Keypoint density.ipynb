{
 "cells": [
  {
   "cell_type": "code",
   "execution_count": 1,
   "metadata": {},
   "outputs": [
    {
     "ename": "ModuleNotFoundError",
     "evalue": "No module named 'transitions'",
     "output_type": "error",
     "traceback": [
      "\u001b[1;31m---------------------------------------------------------------------------\u001b[0m",
      "\u001b[1;31mModuleNotFoundError\u001b[0m                       Traceback (most recent call last)",
      "\u001b[1;32m<ipython-input-1-8bc856398e03>\u001b[0m in \u001b[0;36m<module>\u001b[1;34m()\u001b[0m\n\u001b[0;32m     16\u001b[0m     \u001b[0mkpts\u001b[0m \u001b[1;33m=\u001b[0m \u001b[0mpickle\u001b[0m\u001b[1;33m.\u001b[0m\u001b[0mload\u001b[0m\u001b[1;33m(\u001b[0m\u001b[0mhandle\u001b[0m\u001b[1;33m)\u001b[0m\u001b[1;33m\u001b[0m\u001b[0m\n\u001b[0;32m     17\u001b[0m \u001b[1;33m\u001b[0m\u001b[0m\n\u001b[1;32m---> 18\u001b[1;33m \u001b[1;32mfrom\u001b[0m \u001b[0mtransitions\u001b[0m \u001b[1;32mimport\u001b[0m \u001b[1;33m*\u001b[0m\u001b[1;33m\u001b[0m\u001b[0m\n\u001b[0m\u001b[0;32m     19\u001b[0m \u001b[1;32mfrom\u001b[0m \u001b[0mtransitions\u001b[0m\u001b[1;33m.\u001b[0m\u001b[0mextensions\u001b[0m \u001b[1;32mimport\u001b[0m \u001b[0mGraphMachine\u001b[0m\u001b[1;33m\u001b[0m\u001b[0m\n\u001b[0;32m     20\u001b[0m \u001b[1;32mfrom\u001b[0m \u001b[0mIPython\u001b[0m\u001b[1;33m.\u001b[0m\u001b[0mdisplay\u001b[0m \u001b[1;32mimport\u001b[0m \u001b[0mImage\u001b[0m\u001b[1;33m,\u001b[0m \u001b[0mdisplay\u001b[0m\u001b[1;33m,\u001b[0m \u001b[0mdisplay_png\u001b[0m\u001b[1;33m\u001b[0m\u001b[0m\n",
      "\u001b[1;31mModuleNotFoundError\u001b[0m: No module named 'transitions'"
     ]
    }
   ],
   "source": [
    "%matplotlib inline\n",
    "import os, sys, inspect, io, pickle\n",
    "import matplotlib.pyplot as plt\n",
    "from math import floor\n",
    "import keypoint_helpers\n",
    "import state_helpers\n",
    "\n",
    "cmd_folder = os.path.realpath(\n",
    "    os.path.dirname(\n",
    "        os.path.abspath(os.path.split(inspect.getfile( inspect.currentframe() ))[0])))\n",
    "\n",
    "if cmd_folder not in sys.path:\n",
    "    sys.path.insert(0, cmd_folder)\n",
    "    \n",
    "with open('test.pickle', 'rb') as handle:\n",
    "    kpts = pickle.load(handle)\n",
    "    \n",
    "from transitions import *\n",
    "from transitions.extensions import GraphMachine\n",
    "from IPython.display import Image, display, display_png\n",
    "\n",
    "class Matter(object):\n",
    "    def is_valid(self):\n",
    "        return True\n",
    "    \n",
    "    def is_not_valid(self):\n",
    "        return False\n",
    "    \n",
    "    def is_also_valid(self):\n",
    "        return True\n",
    "    \n",
    "    # graph object is created by the machine\n",
    "    def show_graph(self, **kwargs):\n",
    "        stream = io.BytesIO()\n",
    "        self.get_graph(**kwargs).draw(stream, prog='dot', format='png')\n",
    "        display(Image(stream.getvalue()))"
   ]
  },
  {
   "cell_type": "code",
   "execution_count": null,
   "metadata": {},
   "outputs": [],
   "source": [
    "kpts_inverted = state_helpers.invert_keypoints(kpts)"
   ]
  },
  {
   "cell_type": "code",
   "execution_count": null,
   "metadata": {
    "scrolled": true
   },
   "outputs": [],
   "source": [
    "%%capture\n",
    "keypoints = keypoint_helpers.get_keypoint_labels()\n",
    "\n",
    "fig, axes = plt.subplots(9, 2,figsize=(15,30))\n",
    "flat_axes = [item for sublist in axes for item in sublist]\n",
    "\n",
    "for i, ax in enumerate(flat_axes):\n",
    "    ax.grid()\n",
    "    ax.set_xlim(-1,1)\n",
    "    ax.set_ylim(-1,1)\n",
    "    # add 1 to skip second plot\n",
    "    if i == 0:\n",
    "         ax.set_title(keypoints[i])\n",
    "    elif i == 1:\n",
    "        continue\n",
    "    else:\n",
    "        ax.set_title(keypoints[i-1])\n",
    "        \n",
    "fig.tight_layout()"
   ]
  },
  {
   "cell_type": "code",
   "execution_count": null,
   "metadata": {
    "scrolled": false
   },
   "outputs": [],
   "source": [
    "for frame in kpts_inverted:\n",
    "    for i, point in enumerate(frame):\n",
    "        # add 1 to skip second plot\n",
    "        plot_index = i\n",
    "        if i > 0:\n",
    "            plot_index+=1\n",
    "        flat_axes[plot_index].scatter(point[0],point[1])\n",
    "fig"
   ]
  },
  {
   "cell_type": "code",
   "execution_count": null,
   "metadata": {},
   "outputs": [],
   "source": [
    "%%capture\n",
    "fig, axes = plt.subplots(9, 2,figsize=(15,30))\n",
    "flat_axes = [item for sublist in axes for item in sublist]\n",
    "\n",
    "for i, ax in enumerate(flat_axes):\n",
    "    ax.grid()\n",
    "    ax.set_ylim(-.6,.6)\n",
    "    ax.set_xlabel('Frame (time ~.4 sec)')\n",
    "    ax.set_ylabel('X measure')\n",
    "    # add 1 to skip second plot\n",
    "    if i == 0:\n",
    "         ax.set_title(keypoints[i] + ' X dim')\n",
    "    elif i == 1:\n",
    "        continue\n",
    "    else:\n",
    "        ax.set_title(keypoints[i-1] + ' X dim')\n",
    "\n",
    "fig.tight_layout()"
   ]
  },
  {
   "cell_type": "code",
   "execution_count": null,
   "metadata": {},
   "outputs": [],
   "source": [
    "import copy\n",
    "\n",
    "kpt_dict_x = {\n",
    "    'nose': [],\n",
    "    'left_eye': [],\n",
    "    'right_eye': [],\n",
    "    'left_ear': [],\n",
    "    'right_ear': [],\n",
    "    'left_shoulder': [],\n",
    "    'right_shoulder': [],\n",
    "    'left_elbow': [],\n",
    "    'right_elbow': [],\n",
    "    'left_wrist': [],\n",
    "    'right_wrist': [],\n",
    "    'left_hip': [],\n",
    "    'right_hip': [],\n",
    "    'left_knee': [],\n",
    "    'right_knee': [],\n",
    "    'left_ankle': [],\n",
    "    'right_ankle': []\n",
    "}\n",
    "\n",
    "kpt_dict_y = copy.deepcopy(kpt_dict_x)\n",
    "\n",
    "time = list(range(len(kpts_inverted)))\n",
    "\n",
    "for frame in kpts_inverted:\n",
    "    for i, point in enumerate(frame):\n",
    "        kpt_dict_x[keypoints[i]].append(point[0])\n",
    "        kpt_dict_y[keypoints[i]].append(point[1])"
   ]
  },
  {
   "cell_type": "code",
   "execution_count": null,
   "metadata": {
    "scrolled": false
   },
   "outputs": [],
   "source": [
    "for i, kpt in enumerate(keypoints):\n",
    "    if i < 1:\n",
    "        flat_axes[i].plot(time, kpt_dict_x[kpt],'.r-')\n",
    "    elif i > 1:\n",
    "        flat_axes[i+1].plot(time, kpt_dict_x[kpt],'.r-')\n",
    "    \n",
    "fig"
   ]
  },
  {
   "cell_type": "code",
   "execution_count": null,
   "metadata": {},
   "outputs": [],
   "source": [
    "import numpy as np\n",
    "\n",
    "Fs = 2  # sampling rate\n",
    "Ts = 1.0/Fs # sampling interval\n",
    "\n",
    "\n",
    "t = np.arange(0,len(kpts_inverted),Ts) # time vector\n",
    "y = kpt_dict_x['nose']\n",
    "\n",
    "n = len(y) # length of the signal\n",
    "window = np.hamming(n)\n",
    "\n",
    "k = np.arange(n)\n",
    "T = n/Fs\n",
    "frq = k/T # two sides frequency range\n",
    "frq = frq[range(n//2)] # one side frequency range\n",
    "\n",
    "Y = np.fft.fft(y*window)/n # fft computing and normalization\n",
    "Y = Y[range(n//2)]\n",
    "\n",
    "plt.plot(frq,abs(Y),'r') # plotting the spectrum\n",
    "plt.xlabel('Freq (Hz)')\n",
    "plt.ylabel('|Y(freq)|')"
   ]
  },
  {
   "cell_type": "code",
   "execution_count": null,
   "metadata": {},
   "outputs": [],
   "source": []
  }
 ],
 "metadata": {
  "kernelspec": {
   "display_name": "Python 3",
   "language": "python",
   "name": "python3"
  },
  "language_info": {
   "codemirror_mode": {
    "name": "ipython",
    "version": 3
   },
   "file_extension": ".py",
   "mimetype": "text/x-python",
   "name": "python",
   "nbconvert_exporter": "python",
   "pygments_lexer": "ipython3",
   "version": "3.6.4"
  }
 },
 "nbformat": 4,
 "nbformat_minor": 2
}
