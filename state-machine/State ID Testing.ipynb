{
 "cells": [
  {
   "cell_type": "code",
   "execution_count": 1,
   "metadata": {},
   "outputs": [],
   "source": [
    "import os, sys, inspect, io, pickle\n",
    "import matplotlib.pyplot as plt\n",
    "from math import floor\n",
    "import keypoint_helpers\n",
    "import state_helpers\n",
    "from scipy.interpolate import spline\n",
    "import numpy as np\n",
    "import copy\n",
    "\n",
    "with open('test.pickle', 'rb') as handle:\n",
    "    kpts = pickle.load(handle)\n",
    "\n",
    "kpts_inverted = state_helpers.invert_keypoints(kpts)\n",
    "\n",
    "keypoints = keypoint_helpers.get_keypoint_labels()\n",
    "kpt_dict_x = {\n",
    "    'nose': [],\n",
    "    'left_eye': [],\n",
    "    'right_eye': [],\n",
    "    'left_ear': [],\n",
    "    'right_ear': [],\n",
    "    'left_shoulder': [],\n",
    "    'right_shoulder': [],\n",
    "    'left_elbow': [],\n",
    "    'right_elbow': [],\n",
    "    'left_wrist': [],\n",
    "    'right_wrist': [],\n",
    "    'left_hip': [],\n",
    "    'right_hip': [],\n",
    "    'left_knee': [],\n",
    "    'right_knee': [],\n",
    "    'left_ankle': [],\n",
    "    'right_ankle': []\n",
    "}\n",
    "\n",
    "kpt_dict_y = copy.deepcopy(kpt_dict_x)\n",
    "\n",
    "time = list(range(len(kpts_inverted)))\n",
    "\n",
    "for frame in kpts_inverted:\n",
    "    for i, point in enumerate(frame):\n",
    "        kpt_dict_x[keypoints[i]].append(point[0])\n",
    "        kpt_dict_y[keypoints[i]].append(point[1])\n",
    "\n",
    "# displacement\n",
    "displacement = {}\n",
    "for i, kpt in enumerate(keypoints):\n",
    "    xsquared = np.square(np.asarray(kpt_dict_x[kpt]))\n",
    "    ysquared = np.square(np.asarray(kpt_dict_y[kpt]))\n",
    "    displacement[kpt] = np.sqrt(xsquared + ysquared)\n",
    "\n",
    "\n",
    "# velocity / acceleration\n",
    "velocity = {}\n",
    "acceleration = {}\n",
    "for i, kpt in enumerate(keypoints):\n",
    "    velocity[kpt] = np.diff(displacement[kpt])/np.diff(time)\n",
    "    acceleration[kpt] = np.diff(velocity[kpt])/np.diff(time[:-1])"
   ]
  },
  {
   "cell_type": "code",
   "execution_count": 5,
   "metadata": {},
   "outputs": [
    {
     "data": {
      "text/plain": [
       "Text(0,0.5,'|Y(freq)|')"
      ]
     },
     "execution_count": 5,
     "metadata": {},
     "output_type": "execute_result"
    },
    {
     "data": {
      "image/png": "[encoded data removed]",
      "text/plain": [
       "<matplotlib.figure.Figure at 0x216144be6a0>"
      ]
     },
     "metadata": {},
     "output_type": "display_data"
    }
   ],
   "source": [
    "Fs = 2.30188679245  # sampling rate\n",
    "Ts = 1.0/Fs # sampling interval\n",
    "\n",
    "\n",
    "t = np.arange(0,len(kpts_inverted),Ts) # time vector\n",
    "y = acceleration['left_hip']\n",
    "\n",
    "n = len(y) # length of the signal\n",
    "window = np.hamming(n)\n",
    "\n",
    "k = np.arange(n)\n",
    "T = n/Fs\n",
    "frq = k/T # two sides frequency range\n",
    "frq = frq[range(n//2)] # one side frequency range\n",
    "\n",
    "Y = np.fft.fft(y)/n # fft computing and normalization\n",
    "Y = Y[range(n//2)]\n",
    "\n",
    "plt.plot(frq,abs(Y),'r') # plotting the spectrum\n",
    "plt.xlabel('Freq (Hz)')\n",
    "plt.ylabel('|Y(freq)|')"
   ]
  },
  {
   "cell_type": "code",
   "execution_count": 3,
   "metadata": {},
   "outputs": [
    {
     "data": {
      "text/plain": [
       "array([-0.05374442,  0.04370007,  0.02204487,  0.00886073, -0.01161159,\n",
       "        0.00976716, -0.0099895 , -0.02287761,  0.04749477, -0.00320992,\n",
       "       -0.00832168, -0.0305669 , -0.00611664,  0.01919394,  0.00775054,\n",
       "        0.04718256, -0.02576415, -0.00785492, -0.03548481,  0.00580292,\n",
       "        0.05116121, -0.02012644,  0.00315681, -0.00264232, -0.01168793,\n",
       "        0.04783736, -0.09115436,  0.02196975, -0.00057892, -0.03577748,\n",
       "        0.04721268, -0.01634733,  0.04845416, -0.03021762,  0.0183127 ,\n",
       "        0.01416675, -0.01385135, -0.02216022,  0.00541286,  0.0081735 ,\n",
       "        0.02016376, -0.0298981 ,  0.01296211,  0.00336625, -0.00997274,\n",
       "        0.02186528,  0.00202714, -0.01664922, -0.01427249,  0.00873589,\n",
       "       -0.0264496 ,  0.01287715,  0.00739263, -0.02325212,  0.00354464,\n",
       "        0.01950056,  0.0106323 , -0.01225008,  0.00141973,  0.04261757,\n",
       "       -0.03604668,  0.01007246,  0.02882682, -0.07906378,  0.0411103 ,\n",
       "       -0.01961383, -0.0051381 ,  0.01426884, -0.00084667,  0.0296801 ,\n",
       "       -0.03873816,  0.0358343 , -0.0478266 ,  0.09679104, -0.06937   ,\n",
       "       -0.04209775,  0.05876355, -0.00514512,  0.01037048, -0.01261159,\n",
       "        0.0015053 ,  0.06179632, -0.06290902, -0.08644444,  0.09890757,\n",
       "       -0.05520034,  0.02193249,  0.07440901,  0.01569821, -0.09676472,\n",
       "       -0.02974054,  0.0381903 , -0.00769385,  0.02800086,  0.0251723 ,\n",
       "        0.0082825 , -0.13782012,  0.07870396,  0.01934237, -0.00379019,\n",
       "       -0.03979854,  0.04400197,  0.02023044, -0.00940899, -0.00686641,\n",
       "       -0.00236702, -0.00216682, -0.00167381, -0.04059741,  0.07471237,\n",
       "       -0.02929616, -0.00901716,  0.0837576 , -0.08540372, -0.02256572,\n",
       "       -0.02352154,  0.11463655, -0.07529845, -0.04212432,  0.0216292 ,\n",
       "        0.05471383,  0.0298648 ])"
      ]
     },
     "execution_count": 3,
     "metadata": {},
     "output_type": "execute_result"
    }
   ],
   "source": [
    "acceleration['left_hip']"
   ]
  },
  {
   "cell_type": "code",
   "execution_count": null,
   "metadata": {},
   "outputs": [],
   "source": []
  }
 ],
 "metadata": {
  "kernelspec": {
   "display_name": "Python 3",
   "language": "python",
   "name": "python3"
  },
  "language_info": {
   "codemirror_mode": {
    "name": "ipython",
    "version": 3
   },
   "file_extension": ".py",
   "mimetype": "text/x-python",
   "name": "python",
   "nbconvert_exporter": "python",
   "pygments_lexer": "ipython3",
   "version": "3.6.4"
  }
 },
 "nbformat": 4,
 "nbformat_minor": 2
}
