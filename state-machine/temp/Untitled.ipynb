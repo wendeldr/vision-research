{
 "cells": [
  {
   "cell_type": "code",
   "execution_count": 5,
   "metadata": {},
   "outputs": [],
   "source": [
    "import os, sys, inspect, io, pickle\n",
    "\n",
    "cmd_folder = os.path.realpath(\n",
    "    os.path.dirname(\n",
    "        os.path.abspath(os.path.split(inspect.getfile( inspect.currentframe() ))[0])))\n",
    "\n",
    "if cmd_folder not in sys.path:\n",
    "    sys.path.insert(0, cmd_folder)\n",
    "    \n",
    "with open('test.pickle', 'rb') as handle:\n",
    "    kpts = pickle.load(handle)\n",
    "    \n",
    "from transitions import *\n",
    "from transitions.extensions import GraphMachine\n",
    "from IPython.display import Image, display, display_png\n",
    "\n",
    "class Matter(object):\n",
    "    def is_valid(self):\n",
    "        return True\n",
    "    \n",
    "    def is_not_valid(self):\n",
    "        return False\n",
    "    \n",
    "    def is_also_valid(self):\n",
    "        return True\n",
    "    \n",
    "    # graph object is created by the machine\n",
    "    def show_graph(self, **kwargs):\n",
    "        stream = io.BytesIO()\n",
    "        self.get_graph(**kwargs).draw(stream, prog='dot', format='png')\n",
    "        display(Image(stream.getvalue()))"
   ]
  },
  {
   "cell_type": "code",
   "execution_count": 15,
   "metadata": {},
   "outputs": [],
   "source": [
    "keypoint_thresh = 0\n",
    "\n",
    "keypoint_vec = []\n",
    "for frame in kpts:\n",
    "    tmp_x = []\n",
    "    tmp_y = []\n",
    "    for point in frame:\n",
    "        if point[2] > keypoint_thresh:\n",
    "            tmp_x.append(point[0])\n",
    "            tmp_y.append(point[1])\n",
    "        else:\n",
    "            tmp_x.append(0)\n",
    "            tmp_y.append(0)\n",
    "    keypoint_vec.append(tmp_x + tmp_y)"
   ]
  },
  {
   "cell_type": "code",
   "execution_count": 17,
   "metadata": {},
   "outputs": [
    {
     "name": "stdout",
     "output_type": "stream",
     "text": [
      "===========================================\n",
      "2.0273514582788947\n",
      "7.399053204064531\n",
      "2.7670415983530305\n",
      "===========================================\n",
      "3.577104358015116\n",
      "7.764801804829959\n",
      "0.3527884387170224\n",
      "===========================================\n",
      "3.2671027652043554\n",
      "3.577104358015116\n",
      "4.438266298807061\n",
      "===========================================\n",
      "6.658290481114218\n",
      "3.577104358015116\n",
      "1.4624375600040043\n",
      "===========================================\n",
      "4.2170353309019575\n",
      "3.686592750992683\n",
      "3.3849221059814023\n",
      "===========================================\n",
      "3.3849221059814023\n",
      "3.577104358015116\n",
      "4.324989815590144\n",
      "===========================================\n",
      "5.424040087724569\n",
      "1.9798653025824087\n",
      "3.8435072496813074\n",
      "===========================================\n",
      "6.848339296059056\n",
      "1.1095470403482781\n",
      "3.283589176004659\n",
      "===========================================\n",
      "2.680773266167881\n",
      "8.121326294419308\n",
      "1.4054328480031248\n",
      "===========================================\n",
      "3.686592750992683\n",
      "4.536541509290245\n",
      "3.0654109815880215\n"
     ]
    },
    {
     "data": {
      "text/plain": [
       "KMeans(algorithm='auto', copy_x=True, init='k-means++', max_iter=300,\n",
       "    n_clusters=3, n_init=10, n_jobs=1, precompute_distances='auto',\n",
       "    random_state=None, tol=0.0001, verbose=0)"
      ]
     },
     "execution_count": 17,
     "metadata": {},
     "output_type": "execute_result"
    }
   ],
   "source": [
    "from sklearn.cluster import KMeans\n",
    "\n",
    "kmeans = KMeans(n_clusters=3)\n",
    "kmeans.fit(keypoint_vec)"
   ]
  },
  {
   "cell_type": "code",
   "execution_count": null,
   "metadata": {
    "collapsed": true
   },
   "outputs": [],
   "source": []
  }
 ],
 "metadata": {
  "kernelspec": {
   "display_name": "Python 3",
   "language": "python",
   "name": "python3"
  },
  "language_info": {
   "codemirror_mode": {
    "name": "ipython",
    "version": 3
   },
   "file_extension": ".py",
   "mimetype": "text/x-python",
   "name": "python",
   "nbconvert_exporter": "python",
   "pygments_lexer": "ipython3",
   "version": "3.6.3"
  }
 },
 "nbformat": 4,
 "nbformat_minor": 2
}
